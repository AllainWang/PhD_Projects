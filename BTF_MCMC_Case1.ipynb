{
 "cells": [
  {
   "cell_type": "code",
   "execution_count": 1,
   "metadata": {
    "collapsed": false
   },
   "outputs": [
    {
     "name": "stderr",
     "output_type": "stream",
     "text": [
      "C:\\Users\\Allainware\\Anaconda3\\lib\\site-packages\\ipykernel\\__main__.py:13: DeprecationWarning: assignment will raise an error in the future, most likely because your index result shape does not match the value array shape. You can use `arr.flat[index] = values` to keep the old behaviour.\n"
     ]
    },
    {
     "data": {
      "text/plain": [
       "array([2, 3, 2, 3, 2, 3, 2, 3, 2, 3, 2, 3, 2, 3, 2, 3, 2, 3, 2, 3, 2, 3, 2,\n",
       "       3, 2, 3, 2, 3, 2, 3, 2, 3, 2, 3, 2, 3, 2, 3, 2, 3, 2, 3, 2, 3, 2, 3,\n",
       "       2, 3, 2, 3, 2, 3, 2, 3, 2, 3, 2, 3, 2, 3, 2, 3, 2, 3, 2, 3, 2, 3, 2,\n",
       "       3, 2, 3, 2, 3, 2, 1, 2, 3, 2, 3, 2, 3, 2, 3, 2, 3, 2, 3, 2, 3, 2, 3,\n",
       "       2, 3, 2, 3, 2, 3, 2, 3, 2, 3, 2, 3, 2, 3, 2, 3, 2, 3, 2, 3, 2, 3, 2,\n",
       "       3, 2, 3, 2, 3, 2, 3, 2, 3, 2, 3, 2, 3, 2, 3, 2, 3, 2, 3, 2, 3, 2, 3,\n",
       "       2, 3, 2, 3, 2, 3, 2, 3, 2, 3, 2, 3, 2, 3, 2, 3, 2, 3, 2, 3, 2, 3, 2,\n",
       "       3, 2, 3, 2, 3, 2, 3, 2, 3, 2, 3, 2, 3, 2, 3, 2, 3, 2, 3, 2, 3, 2, 3,\n",
       "       2, 3, 2, 3, 2, 3, 2, 3, 2, 3, 2, 3, 2, 3, 2, 3], dtype=int8)"
      ]
     },
     "execution_count": 1,
     "metadata": {},
     "output_type": "execute_result"
    }
   ],
   "source": [
    "import numpy as np\n",
    "import matplotlib.pyplot as plt\n",
    "import math\n",
    "import pandas\n",
    "from pandas.tools.plotting import autocorrelation_plot\n",
    "import itertools\n",
    "import time\n",
    "import sys\n",
    "from datetime import datetime\n",
    "\n",
    "def tri_data(numbers):\n",
    "    tri_data = np.zeros(numbers, dtype=np.int8)\n",
    "    tri_data[np.arange(3)] = np.random.choice(np.arange(1,4), 2)\n",
    "    #tri_data[np.arange(3)] = [1, 2, 3]\n",
    "    for n in np.arange(3, numbers):\n",
    "        if tri_data[n-2] == 1:\n",
    "            tri_data[n] = np.random.choice(np.arange(1,4), p = (0.99, 0.005, 0.005))\n",
    "        if tri_data[n-2] == 2:\n",
    "            tri_data[n] = np.random.choice(np.arange(1,4), p = (0.005, 0.99, 0.005))\n",
    "        else:\n",
    "            tri_data[n] = np.random.choice(np.arange(1,4), p = (0.005, 0.005, 0.99))\n",
    "    return(tri_data)\n",
    "data = tri_data(200)\n",
    "data"
   ]
  },
  {
   "cell_type": "code",
   "execution_count": 3,
   "metadata": {
    "collapsed": false
   },
   "outputs": [
    {
     "name": "stderr",
     "output_type": "stream",
     "text": [
      "C:\\Users\\Allainware\\Anaconda3\\lib\\site-packages\\numpy\\core\\fromnumeric.py:47: VisibleDeprecationWarning: using a non-integer number instead of an integer will result in an error in the future\n",
      "  result = getattr(asarray(obj), method)(*args, **kwds)\n",
      "C:\\Users\\Allainware\\Anaconda3\\lib\\site-packages\\ipykernel\\__main__.py:73: VisibleDeprecationWarning: using a non-integer number instead of an integer will result in an error in the future\n",
      "C:\\Users\\Allainware\\Anaconda3\\lib\\site-packages\\ipykernel\\__main__.py:102: VisibleDeprecationWarning: using a non-integer number instead of an integer will result in an error in the future\n",
      "C:\\Users\\Allainware\\Anaconda3\\lib\\site-packages\\ipykernel\\__main__.py:106: VisibleDeprecationWarning: using a non-integer number instead of an integer will result in an error in the future\n",
      "C:\\Users\\Allainware\\Anaconda3\\lib\\site-packages\\ipykernel\\__main__.py:110: VisibleDeprecationWarning: using a non-integer number instead of an integer will result in an error in the future\n",
      "C:\\Users\\Allainware\\Anaconda3\\lib\\site-packages\\ipykernel\\__main__.py:117: VisibleDeprecationWarning: using a non-integer number instead of an integer will result in an error in the future\n",
      "C:\\Users\\Allainware\\Anaconda3\\lib\\site-packages\\ipykernel\\__main__.py:119: VisibleDeprecationWarning: using a non-integer number instead of an integer will result in an error in the future\n",
      "C:\\Users\\Allainware\\Anaconda3\\lib\\site-packages\\ipykernel\\__main__.py:122: VisibleDeprecationWarning: using a non-integer number instead of an integer will result in an error in the future\n",
      "C:\\Users\\Allainware\\Anaconda3\\lib\\site-packages\\ipykernel\\__main__.py:124: VisibleDeprecationWarning: using a non-integer number instead of an integer will result in an error in the future\n",
      "C:\\Users\\Allainware\\Anaconda3\\lib\\site-packages\\ipykernel\\__main__.py:127: VisibleDeprecationWarning: using a non-integer number instead of an integer will result in an error in the future\n",
      "C:\\Users\\Allainware\\Anaconda3\\lib\\site-packages\\ipykernel\\__main__.py:129: VisibleDeprecationWarning: using a non-integer number instead of an integer will result in an error in the future\n",
      "C:\\Users\\Allainware\\Anaconda3\\lib\\site-packages\\ipykernel\\__main__.py:153: VisibleDeprecationWarning: using a non-integer number instead of an integer will result in an error in the future\n",
      "C:\\Users\\Allainware\\Anaconda3\\lib\\site-packages\\ipykernel\\__main__.py:160: VisibleDeprecationWarning: using a non-integer number instead of an integer will result in an error in the future\n",
      "C:\\Users\\Allainware\\Anaconda3\\lib\\site-packages\\ipykernel\\__main__.py:168: VisibleDeprecationWarning: using a non-integer number instead of an integer will result in an error in the future\n",
      "C:\\Users\\Allainware\\Anaconda3\\lib\\site-packages\\ipykernel\\__main__.py:220: VisibleDeprecationWarning: using a non-integer number instead of an integer will result in an error in the future\n",
      "C:\\Users\\Allainware\\Anaconda3\\lib\\site-packages\\ipykernel\\__main__.py:243: VisibleDeprecationWarning: using a non-integer number instead of an integer will result in an error in the future\n",
      "C:\\Users\\Allainware\\Anaconda3\\lib\\site-packages\\ipykernel\\__main__.py:247: VisibleDeprecationWarning: using a non-integer number instead of an integer will result in an error in the future\n",
      "C:\\Users\\Allainware\\Anaconda3\\lib\\site-packages\\ipykernel\\__main__.py:251: VisibleDeprecationWarning: using a non-integer number instead of an integer will result in an error in the future\n",
      "C:\\Users\\Allainware\\Anaconda3\\lib\\site-packages\\ipykernel\\__main__.py:256: VisibleDeprecationWarning: using a non-integer number instead of an integer will result in an error in the future\n",
      "C:\\Users\\Allainware\\Anaconda3\\lib\\site-packages\\ipykernel\\__main__.py:258: VisibleDeprecationWarning: using a non-integer number instead of an integer will result in an error in the future\n",
      "C:\\Users\\Allainware\\Anaconda3\\lib\\site-packages\\ipykernel\\__main__.py:261: VisibleDeprecationWarning: using a non-integer number instead of an integer will result in an error in the future\n",
      "C:\\Users\\Allainware\\Anaconda3\\lib\\site-packages\\ipykernel\\__main__.py:263: VisibleDeprecationWarning: using a non-integer number instead of an integer will result in an error in the future\n",
      "C:\\Users\\Allainware\\Anaconda3\\lib\\site-packages\\ipykernel\\__main__.py:266: VisibleDeprecationWarning: using a non-integer number instead of an integer will result in an error in the future\n",
      "C:\\Users\\Allainware\\Anaconda3\\lib\\site-packages\\ipykernel\\__main__.py:268: VisibleDeprecationWarning: using a non-integer number instead of an integer will result in an error in the future\n",
      "C:\\Users\\Allainware\\Anaconda3\\lib\\site-packages\\ipykernel\\__main__.py:290: VisibleDeprecationWarning: using a non-integer number instead of an integer will result in an error in the future\n",
      "C:\\Users\\Allainware\\Anaconda3\\lib\\site-packages\\ipykernel\\__main__.py:297: VisibleDeprecationWarning: using a non-integer number instead of an integer will result in an error in the future\n",
      "C:\\Users\\Allainware\\Anaconda3\\lib\\site-packages\\ipykernel\\__main__.py:305: VisibleDeprecationWarning: using a non-integer number instead of an integer will result in an error in the future\n"
     ]
    },
    {
     "name": "stdout",
     "output_type": "stream",
     "text": [
      "Duration: 0:12:10.639040\n"
     ]
    }
   ],
   "source": [
    "start_time = datetime.now()\n",
    "#simulating for S times\n",
    "S = 20000\n",
    "L = 100\n",
    "alpha0 = 1\n",
    "\n",
    "# generate z1t, z2t, z3t... according to the corresponding k1, k2, k3, ...\n",
    "k1 = np.zeros(S)\n",
    "k2 = np.zeros(S)\n",
    "k3 = np.zeros(S)\n",
    "k1[0] = 2\n",
    "k2[0] = 2\n",
    "k3[0] = 2\n",
    "z_j_t = np.zeros((3, len(data), S))\n",
    "z_j_t[:,:,0] = 1\n",
    "C0 = 3\n",
    "alpha = 1/C0\n",
    "q = 3\n",
    "eta = 0.5\n",
    "gamma1 = gamma2 = gamma3 = 1/C0\n",
    "\n",
    "\n",
    "#step 1\n",
    "#define pi_ast_l\n",
    "pi_ast_l = np.zeros(L)\n",
    "V_l = np.random.beta(1, alpha0, L)\n",
    "pi_ast_l[0] = V_l[0]\n",
    "oneminusV_l = 1 - V_l \n",
    "for n in np.arange(1, L):\n",
    "    pi_ast_l[n] = V_l[n]*np.prod(oneminusV_l[:n])   \n",
    "    \n",
    "lambda_ast_l = np.random.dirichlet(np.repeat(1/C0, C0), L)\n",
    "\n",
    "def nh1h2h3y(h1, h2, h3, y):\n",
    "    case1 = (z_j_t[0, q:, 0] == h1)*1\n",
    "    case2 = (z_j_t[1, q:, 0] == h2)*1 \n",
    "    case3 = (z_j_t[2, q:, 0] == h3)*1\n",
    "    case123 = case1*case2*case3\n",
    "    case4 = (data[q:] == y)*1\n",
    "    nh1h2h3y = np.sum(case123*case4)\n",
    "    return(nh1h2h3y)\n",
    "\n",
    "#simulating l, PLN()[l-1] means the prob of l with h1, h2, h3\n",
    "def PLN(h1, h2, h3):\n",
    "    lamny = [(lambda_ast_l[:, y-1]**nh1h2h3y(h1, h2, h3, y)) for y in range(1, C0+1)]\n",
    "    PLNnotnorm = pi_ast_l*np.prod(lamny, axis = 0)\n",
    "    PLN = PLNnotnorm/np.sum(PLNnotnorm)\n",
    "    return PLN\n",
    "\n",
    "def sample_z_ast(h1, h2, h3):\n",
    "    z = np.random.choice(np.arange(1, L+1), p = PLN(h1, h2, h3))\n",
    "    return z\n",
    "h1 = np.arange(1, k1[0]+1)\n",
    "h2 = np.arange(1, k2[0]+1)\n",
    "h3 = np.arange(1, k3[0]+1)\n",
    "per = list(itertools.product(h1,h2, h3)) #permutations\n",
    "zz = list(map(lambda x: sample_z_ast(*x), per))\n",
    "z_ast_h1h2h3 = np.reshape(zz, (k1[0],k2[0],k3[0]))\n",
    "\n",
    "#step 2\n",
    "def sample_V_l(l): \n",
    "    return np.random.beta(1 + np.count_nonzero(z_ast_h1h2h3 == l), alpha0 + np.count_nonzero(z_ast_h1h2h3 > l), 1).tolist()\n",
    "V_l = np.concatenate(list(map(lambda x: sample_V_l(x), range(1, L+1))))\n",
    "pi_ast_l[0] = V_l[0]\n",
    "oneminusV_l = 1 - V_l \n",
    "for n in np.arange(1, L):\n",
    "    pi_ast_l[n] = V_l[n]*np.prod(oneminusV_l[:n])\n",
    "\n",
    "\n",
    "#step 3\n",
    "def n_ast_l_y(l, y):\n",
    "    def nnn(h1, h2, h3):\n",
    "        nnn = np.count_nonzero(z_ast_h1h2h3[h1-1, h2-1, h3-1] == l)*nh1h2h3y(h1, h2, h3, y)\n",
    "        return nnn\n",
    "    h1 = np.arange(1, k1[0]+1)\n",
    "    h2 = np.arange(1, k2[0]+1)\n",
    "    h3 = np.arange(1, k3[0]+1)\n",
    "    per = list(itertools.product(h1,h2, h3))\n",
    "    nn = list(map(lambda x: nnn(*x), per))\n",
    "    #return per\n",
    "    n_ast_l_y = np.sum(nn)\n",
    "    return(n_ast_l_y)\n",
    "\n",
    "#lambda_ast_l[l-1, y-1] means the value of (l,y)\n",
    "def nrd(l):\n",
    "    nrd = np.random.dirichlet([1/C0 + n_ast_l_y(l, y) for y in np.arange(1, C0+1)])\n",
    "    return nrd\n",
    "lambda_ast_l = np.array(list(map(lambda x: nrd(x), np.arange(1, L+1))))\n",
    "\n",
    "#step 4\n",
    "#def n_j_wj_hj(j, wj, hj):\n",
    "#    n_j_wj_hj = sum([1 if z_j_t[j-1,t,0] == hj and data[t-j] == wj else 0 for t in range(q, len(data))])\n",
    "#    return n_j_wj_hj\n",
    "\n",
    "def n_j_wj_hj(j, wj, hj):\n",
    "    case1 = (z_j_t[j-1, np.arange(q, len(data)),0] == hj)*1\n",
    "    case2 = (data[np.arange(q, len(data))-j] == wj)*1\n",
    "    n_j_wj_hj = np.sum(case1*case2)\n",
    "    return(n_j_wj_hj)\n",
    "\n",
    "\n",
    "pi_1_w1 = np.zeros((C0, k1[0]))\n",
    "for c in np.arange(C0):\n",
    "        pi_1_w1[c, :] = np.random.dirichlet([1/C0 + n_j_wj_hj(1, c+1, h1) for h1 in np.arange(1, k1[0]+1)])\n",
    "        \n",
    "pi_2_w2 = np.zeros((C0, k2[0]))\n",
    "for c in np.arange(C0):\n",
    "        pi_2_w2[c, :] = np.random.dirichlet([1/C0 + n_j_wj_hj(2, c+1, h2) for h2 in np.arange(1, k2[0]+1)])\n",
    "        \n",
    "pi_3_w3 = np.zeros((C0, k3[0]))\n",
    "for c in np.arange(C0):\n",
    "        pi_3_w3[c, :] = np.random.dirichlet([1/C0 + n_j_wj_hj(3, c+1, h3) for h3 in np.arange(1, k3[0]+1)])\n",
    "        \n",
    "#step 5\n",
    "t = np.arange(q, len(data))\n",
    "\n",
    "PWLZY_1 = np.zeros((k1[0], len(data)))\n",
    "for h in np.arange(k1[0]):\n",
    "    PWLZY_1[h,t] = pi_1_w1[data[t-1]-1, h]*lambda_ast_l[z_ast_h1h2h3[h, np.array(z_j_t[1,t,0], dtype = np.int8)-1, np.array(z_j_t[2,t,0], dtype = np.int8)-1]-1, data[t]-1]\n",
    "PWLZY_1[:,t] = PWLZY_1[:,t]/np.sum(PWLZY_1[:,t], axis = 0)\n",
    "        \n",
    "PWLZY_2 = np.zeros((k2[0], len(data)))\n",
    "for h in np.arange(k2[0]):\n",
    "    PWLZY_2[h,t] = pi_2_w2[data[t-2]-1, h]*lambda_ast_l[z_ast_h1h2h3[np.array(z_j_t[0,t,0], dtype = np.int8)-1, h, np.array(z_j_t[2,t,0], dtype = np.int8)-1]-1, data[t]-1]\n",
    "PWLZY_2[:,t] = PWLZY_2[:,t]/np.sum(PWLZY_2[:,t], axis = 0)\n",
    "        \n",
    "PWLZY_3 = np.zeros((k3[0], len(data)))\n",
    "for h in np.arange(k3[0]):\n",
    "    PWLZY_3[h,t] = pi_3_w3[data[t-3]-1, h]*lambda_ast_l[z_ast_h1h2h3[np.array(z_j_t[0,t,0], dtype = np.int8)-1, np.array(z_j_t[1,t,0], dtype = np.int8)-1, h]-1, data[t]-1]\n",
    "PWLZY_3[:,t] = PWLZY_3[:,t]/np.sum(PWLZY_3[:,t], axis = 0)\n",
    "    \n",
    "pp1 = PWLZY_1[:,np.arange(q, len(data))].transpose()\n",
    "c1 = pp1.cumsum(axis=1)\n",
    "u1 = np.random.rand(len(c1), 1)\n",
    "z_j_t[0,q:,1] = (u1 < c1).argmax(axis=1)+1\n",
    "\n",
    "pp2 = PWLZY_2[:,np.arange(q, len(data))].transpose()\n",
    "c2 = pp2.cumsum(axis=1)\n",
    "u2 = np.random.rand(len(c2), 1)\n",
    "z_j_t[1,q:,1] = (u2 < c2).argmax(axis=1)+1\n",
    "\n",
    "pp3 = PWLZY_3[:,np.arange(q, len(data))].transpose()\n",
    "c3 = pp3.cumsum(axis=1)\n",
    "u3 = np.random.rand(len(c3), 1)\n",
    "z_j_t[2,q:,1] = (u3 < c3).argmax(axis=1)+1\n",
    "\n",
    "#print(z_j_t[:,:,1])\n",
    "\n",
    "#step 6\n",
    "p_k1 = np.zeros(C0)\n",
    "for i in np.arange(max(z_j_t[0, :, 1])-1, C0):\n",
    "    p_k1[i] = np.exp(-eta*1*(i+1))*np.prod([math.gamma((i+1)*gamma1)/(math.gamma((i+1)*gamma1 + \n",
    "              list(data[(q-1):(len(data)-1)]).count(r))) for r in np.arange(1, C0+1)])\n",
    "p1 = p_k1/np.sum(p_k1)\n",
    "k1[1] = np.random.choice(np.arange(1, C0+1), p = p1)\n",
    "\n",
    "p_k2 = np.zeros(C0)\n",
    "for i in np.arange(max(z_j_t[1, :, 1])-1, C0):\n",
    "    p_k2[i] = np.exp(-eta*2*(i+1))*np.prod([math.gamma((i+1)*gamma2)/(math.gamma((i+1)*gamma2 + \n",
    "              list(data[(q-2):(len(data)-2)]).count(r))) for r in np.arange(1, C0+1)])\n",
    "p2 = p_k2/np.sum(p_k2)\n",
    "k2[1] = np.random.choice(np.arange(1, C0+1), p = p2)\n",
    "\n",
    "\n",
    "p_k3 = np.zeros(C0)\n",
    "for i in np.arange(max(z_j_t[2, :, 1])-1, C0):\n",
    "    p_k3[i] = np.exp(-eta*3*(i+1))*np.prod([math.gamma((i+1)*gamma3)/(math.gamma((i+1)*gamma3 + \n",
    "              list(data[(q-3):(len(data)-3)]).count(r))) for r in np.arange(1, C0+1)])\n",
    "p3 = p_k3/np.sum(p_k3)\n",
    "k3[1] = np.random.choice(range(1, C0+1), p = p3)\n",
    "\n",
    "##Additional step, predict y\n",
    "y_pp = np.zeros((len(t), S))\n",
    "tt =z_ast_h1h2h3[np.array(z_j_t[0,q:,1], dtype = np.int8)-1, np.array(z_j_t[1,q:,1], dtype = np.int8)-1, np.array(z_j_t[2,q:,1], dtype = np.int8)-1]-1\n",
    "ltt = lambda_ast_l[tt, :]\n",
    "cltt = ltt.cumsum(axis=1)\n",
    "ultt = np.random.rand(len(cltt), 1)\n",
    "y_pred = (ultt < cltt).argmax(axis=1)+1\n",
    "y_pp[:,0] = y_pred\n",
    "\n",
    "for s in np.arange(1, S-1):\n",
    "#step 1\n",
    "    def nh1h2h3y(h1, h2, h3, y):\n",
    "        case1 = (z_j_t[0, q:, s] == h1)*1\n",
    "        case2 = (z_j_t[1, q:, s] == h2)*1 \n",
    "        case3 = (z_j_t[2, q:, s] == h3)*1\n",
    "        case123 = case1*case2*case3\n",
    "        case4 = (data[q:] == y)*1\n",
    "        nh1h2h3y = np.sum(case123*case4)\n",
    "        return(nh1h2h3y)\n",
    "\n",
    "    def PLN(h1, h2, h3):\n",
    "        lamny = [(lambda_ast_l[:, y-1]**nh1h2h3y(h1, h2, h3, y)) for y in range(1, C0+1)]\n",
    "        PLNnotnorm = pi_ast_l*np.prod(lamny, axis = 0)\n",
    "        PLN = PLNnotnorm/np.sum(PLNnotnorm)\n",
    "        return PLN\n",
    "\n",
    "    def sample_z_ast(h1, h2, h3):\n",
    "        z = np.random.choice(np.arange(1, L+1), p = PLN(h1, h2, h3))\n",
    "        return z\n",
    "    h1 = np.arange(1, k1[s]+1)\n",
    "    h2 = np.arange(1, k2[s]+1)\n",
    "    h3 = np.arange(1, k3[s]+1)\n",
    "    per = list(itertools.product(h1,h2, h3)) #permutations\n",
    "    zz = list(map(lambda x: sample_z_ast(*x), per))\n",
    "    z_ast_h1h2h3 = np.reshape(zz, (k1[s],k2[s],k3[s]))\n",
    "\n",
    "#step 2\n",
    "    def sample_V_l(l): \n",
    "        return np.random.beta(1 + np.count_nonzero(z_ast_h1h2h3 == l), alpha0 + np.count_nonzero(z_ast_h1h2h3 > l), 1).tolist()\n",
    "    V_l = np.concatenate(list(map(lambda x: sample_V_l(x), range(1, L+1))))\n",
    "    pi_ast_l[0] = V_l[0]\n",
    "    oneminusV_l = 1 - V_l \n",
    "    for n in np.arange(1, L):\n",
    "        pi_ast_l[n] = V_l[n]*np.prod(oneminusV_l[:n])\n",
    "        \n",
    "#step 3\n",
    "    def n_ast_l_y(l, y):\n",
    "        def nnn(h1, h2, h3):\n",
    "            nnn = np.count_nonzero(z_ast_h1h2h3[h1-1, h2-1, h3-1] == l)*nh1h2h3y(h1, h2, h3, y)\n",
    "            return nnn\n",
    "        h1 = np.arange(1, k1[s]+1)\n",
    "        h2 = np.arange(1, k2[s]+1)\n",
    "        h3 = np.arange(1, k3[s]+1)\n",
    "        per = list(itertools.product(h1,h2, h3))\n",
    "        nn = list(map(lambda x: nnn(*x), per))\n",
    "        #return per\n",
    "        n_ast_l_y = np.sum(nn)\n",
    "        return(n_ast_l_y)\n",
    "        \n",
    "    def nrd(l):\n",
    "        nrd = np.random.dirichlet([1/C0 + n_ast_l_y(l, y) for y in np.arange(1, C0+1)])\n",
    "        return nrd\n",
    "    lambda_ast_l = np.array(list(map(lambda x: nrd(x), np.arange(1, L+1))))\n",
    "    \n",
    "#step 4    \n",
    "    def n_j_wj_hj(j, wj, hj):\n",
    "        case1 = (z_j_t[j-1, np.arange(q, len(data)),s] == hj)*1\n",
    "        case2 = (data[np.arange(q, len(data))-j] == wj)*1\n",
    "        n_j_wj_hj = np.sum(case1*case2)\n",
    "        return(n_j_wj_hj)\n",
    "    \n",
    "    pi_1_w1 = np.zeros((C0, k1[s]))\n",
    "    for c in np.arange(C0):\n",
    "        pi_1_w1[c, :] = np.random.dirichlet([1/C0 + n_j_wj_hj(1, c+1, h1) for h1 in np.arange(1, k1[s]+1)])\n",
    "\n",
    "    pi_2_w2 = np.zeros((C0, k2[s]))\n",
    "    for c in np.arange(C0):\n",
    "        pi_2_w2[c, :] = np.random.dirichlet([1/C0 + n_j_wj_hj(2, c+1, h2) for h2 in np.arange(1, k2[s]+1)])\n",
    "        \n",
    "    pi_3_w3 = np.zeros((C0, k3[s]))\n",
    "    for c in np.arange(C0):\n",
    "        pi_3_w3[c, :] = np.random.dirichlet([1/C0 + n_j_wj_hj(3, c+1, h3) for h3 in np.arange(1, k3[s]+1)])\n",
    "\n",
    "#step 5\n",
    "    PWLZY_1 = np.zeros((k1[s], len(data)))\n",
    "    for h in np.arange(k1[s]):\n",
    "        PWLZY_1[h,t] = pi_1_w1[data[t-1]-1, h]*lambda_ast_l[z_ast_h1h2h3[h, np.array(z_j_t[1,t,s], dtype = np.int8)-1, np.array(z_j_t[2,t,s], dtype = np.int8)-1]-1, data[t]-1]\n",
    "    PWLZY_1[:,t] = PWLZY_1[:,t]/np.sum(PWLZY_1[:,t], axis = 0)\n",
    "        \n",
    "    PWLZY_2 = np.zeros((k2[s], len(data)))\n",
    "    for h in np.arange(k2[s]):\n",
    "        PWLZY_2[h,t] = pi_2_w2[data[t-2]-1, h]*lambda_ast_l[z_ast_h1h2h3[np.array(z_j_t[0,t,s], dtype = np.int8)-1, h, np.array(z_j_t[2,t,s], dtype = np.int8)-1]-1, data[t]-1]\n",
    "    PWLZY_2[:,t] = PWLZY_2[:,t]/np.sum(PWLZY_2[:,t], axis = 0)\n",
    "        \n",
    "    PWLZY_3 = np.zeros((k3[s], len(data)))\n",
    "    for h in np.arange(k3[s]):\n",
    "        PWLZY_3[h,t] = pi_3_w3[data[t-3]-1, h]*lambda_ast_l[z_ast_h1h2h3[np.array(z_j_t[0,t,s], dtype = np.int8)-1, np.array(z_j_t[1,t,s], dtype = np.int8)-1, h]-1, data[t]-1]\n",
    "    PWLZY_3[:,t] = PWLZY_3[:,t]/np.sum(PWLZY_3[:,t], axis = 0)\n",
    "    \n",
    "    pp1 = PWLZY_1[:,np.arange(q, len(data))].transpose()\n",
    "    c1 = pp1.cumsum(axis=1)\n",
    "    u1 = np.random.rand(len(c1), 1)\n",
    "    z_j_t[0,q:,s+1] = (u1 < c1).argmax(axis=1)+1\n",
    "\n",
    "    pp2 = PWLZY_2[:,np.arange(q, len(data))].transpose()\n",
    "    c2 = pp2.cumsum(axis=1)\n",
    "    u2 = np.random.rand(len(c2), 1)\n",
    "    z_j_t[1,q:,s+1] = (u2 < c2).argmax(axis=1)+1\n",
    "\n",
    "    pp3 = PWLZY_3[:,np.arange(q, len(data))].transpose()\n",
    "    c3 = pp3.cumsum(axis=1)\n",
    "    u3 = np.random.rand(len(c3), 1)\n",
    "    z_j_t[2,q:,s+1] = (u3 < c3).argmax(axis=1)+1\n",
    "        \n",
    "#step 6\n",
    "    p_k1 = np.zeros(C0)\n",
    "    for i in np.arange(max(z_j_t[0, :, s+1])-1, C0):\n",
    "        p_k1[i] = np.exp(-eta*1*(i+1))*np.prod([math.gamma((i+1)*gamma1)/(math.gamma((i+1)*gamma1 + \n",
    "                  list(data[(q-1):(len(data)-1)]).count(r))) for r in np.arange(1, C0+1)])\n",
    "    p1 = p_k1/np.sum(p_k1)\n",
    "    k1[s+1] = np.random.choice(np.arange(1, C0+1), p = p1)\n",
    "\n",
    "    p_k2 = np.zeros(C0)\n",
    "    for i in np.arange(max(z_j_t[1, :, s+1])-1, C0):\n",
    "        p_k2[i] = np.exp(-eta*2*(i+1))*np.prod([math.gamma((i+1)*gamma2)/(math.gamma((i+1)*gamma2 + \n",
    "                  list(data[(q-2):(len(data)-2)]).count(r))) for r in np.arange(1, C0+1)])\n",
    "    p2 = p_k2/np.sum(p_k2)\n",
    "    k2[s+1] = np.random.choice(np.arange(1, C0+1), p = p2)\n",
    "\n",
    "\n",
    "    p_k3 = np.zeros(C0)\n",
    "    for i in np.arange(max(z_j_t[2, :, s+1])-1, C0):\n",
    "        p_k3[i] = np.exp(-eta*3*(i+1))*np.prod([math.gamma((i+1)*gamma3)/(math.gamma((i+1)*gamma3 + \n",
    "                  list(data[(q-3):(len(data)-3)]).count(r))) for r in np.arange(1, C0+1)])\n",
    "    p3 = p_k3/np.sum(p_k3)\n",
    "    k3[s+1] = np.random.choice(range(1, C0+1), p = p3)\n",
    "\n",
    "#additional step\n",
    "    tt = z_ast_h1h2h3[np.array(z_j_t[0,q:,s+1], dtype = np.int8)-1, np.array(z_j_t[1,q:,s+1], dtype = np.int8)-1, np.array(z_j_t[2,q:,s+1], dtype = np.int8)-1]-1\n",
    "    ltt = lambda_ast_l[tt, :]\n",
    "    cltt = ltt.cumsum(axis=1)\n",
    "    ultt = np.random.rand(len(cltt), 1)\n",
    "    y_pred = (ultt < cltt).argmax(axis=1)+1\n",
    "    y_pp[:,s] = y_pred\n",
    "\n",
    "end_time = datetime.now()\n",
    "print('Duration: {}'.format(end_time - start_time))"
   ]
  },
  {
   "cell_type": "code",
   "execution_count": 11,
   "metadata": {
    "collapsed": false
   },
   "outputs": [
    {
     "data": {
      "text/plain": [
       "array([3, 2, 3, 2, 3, 2, 3, 2, 3, 2, 3, 2, 3, 2, 3, 2, 3, 2, 3, 2, 3, 2, 3,\n",
       "       2, 3, 2, 3, 2, 3, 2, 3, 2, 3, 2, 3, 2, 3, 2, 3, 2, 3, 2, 3, 2, 3, 2,\n",
       "       3, 2, 3, 2, 3, 2, 3, 2, 3, 2, 3, 2, 3, 2, 3, 2, 3, 2, 3, 2, 3, 2, 3,\n",
       "       2, 3, 2, 3, 2, 3, 2, 3, 2, 3, 2, 3, 2, 3, 2, 3, 1, 3, 3, 3, 3, 3, 3,\n",
       "       2, 3, 2, 3, 2, 3, 2, 3], dtype=int8)"
      ]
     },
     "execution_count": 11,
     "metadata": {},
     "output_type": "execute_result"
    }
   ],
   "source": [
    "data"
   ]
  },
  {
   "cell_type": "code",
   "execution_count": 6,
   "metadata": {
    "collapsed": false
   },
   "outputs": [
    {
     "data": {
      "image/png": "[encoded data removed]",
      "text/plain": [
       "<matplotlib.figure.Figure at 0x1cb526e8cf8>"
      ]
     },
     "metadata": {},
     "output_type": "display_data"
    }
   ],
   "source": [
    "plt.hist(k1[10000:])\n",
    "plt.show()"
   ]
  },
  {
   "cell_type": "code",
   "execution_count": 8,
   "metadata": {
    "collapsed": false
   },
   "outputs": [
    {
     "data": {
      "image/png": "[encoded data removed]",
      "text/plain": [
       "<matplotlib.figure.Figure at 0x1cb52793ef0>"
      ]
     },
     "metadata": {},
     "output_type": "display_data"
    }
   ],
   "source": [
    "plt.hist(k2[10000:])\n",
    "plt.show()"
   ]
  },
  {
   "cell_type": "code",
   "execution_count": 9,
   "metadata": {
    "collapsed": false
   },
   "outputs": [
    {
     "data": {
      "image/png": "[encoded data removed]",
      "text/plain": [
       "<matplotlib.figure.Figure at 0x1cb5278dbe0>"
      ]
     },
     "metadata": {},
     "output_type": "display_data"
    }
   ],
   "source": [
    "plt.hist(k3[10000:])\n",
    "plt.show()"
   ]
  },
  {
   "cell_type": "code",
   "execution_count": 7,
   "metadata": {
    "collapsed": false
   },
   "outputs": [
    {
     "data": {
      "text/plain": [
       "array([ 2.,  3.,  2.,  3.,  2.,  3.,  2.,  3.,  2.,  3.,  2.,  3.,  2.,\n",
       "        3.,  2.,  3.,  2.,  3.,  2.,  3.,  2.,  3.,  2.,  3.,  2.,  3.,\n",
       "        2.,  3.,  2.,  3.,  2.,  3.,  2.,  3.,  2.,  3.,  2.,  3.,  2.,\n",
       "        3.,  2.,  3.,  2.,  3.,  2.,  3.,  2.,  3.,  2.,  3.,  2.,  3.,\n",
       "        2.,  3.,  2.,  3.,  2.,  3.,  2.,  3.,  2.,  3.,  2.,  3.,  2.,\n",
       "        3.,  2.,  3.,  2.,  3.,  2.,  3.,  2.,  3.,  2.,  3.,  2.,  3.,\n",
       "        2.,  3.,  2.,  3.,  2.,  3.,  3.,  3.,  3.,  3.,  3.,  2.,  3.,\n",
       "        2.,  3.,  2.,  3.,  2.,  3.])"
      ]
     },
     "execution_count": 7,
     "metadata": {},
     "output_type": "execute_result"
    }
   ],
   "source": [
    "y_pp[:,S-2]"
   ]
  },
  {
   "cell_type": "code",
   "execution_count": 10,
   "metadata": {
    "collapsed": false
   },
   "outputs": [
    {
     "data": {
      "image/png": "[encoded data removed]",
      "text/plain": [
       "<matplotlib.figure.Figure at 0x1cb5261fe80>"
      ]
     },
     "metadata": {},
     "output_type": "display_data"
    }
   ],
   "source": [
    "plt.plot(y_pp[:,S-2])\n",
    "plt.show()"
   ]
  }
 ],
 "metadata": {
  "kernelspec": {
   "display_name": "Python 3",
   "language": "python",
   "name": "python3"
  },
  "language_info": {
   "codemirror_mode": {
    "name": "ipython",
    "version": 3
   },
   "file_extension": ".py",
   "mimetype": "text/x-python",
   "name": "python",
   "nbconvert_exporter": "python",
   "pygments_lexer": "ipython3",
   "version": "3.6.0"
  }
 },
 "nbformat": 4,
 "nbformat_minor": 2
}
